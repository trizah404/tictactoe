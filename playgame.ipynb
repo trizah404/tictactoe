{
 "cells": [
  {
   "cell_type": "code",
   "execution_count": 3,
   "id": "f737feec-61d9-4087-9c7c-4eb5a708b9e7",
   "metadata": {},
   "outputs": [
    {
     "ename": "IndentationError",
     "evalue": "expected an indented block after function definition on line 53 (tictactoe.py, line 54)",
     "output_type": "error",
     "traceback": [
      "Traceback \u001b[1;36m(most recent call last)\u001b[0m:\n",
      "\u001b[0m  File \u001b[0;32m~\\anaconda3\\Lib\\site-packages\\IPython\\core\\interactiveshell.py:3577\u001b[0m in \u001b[0;35mrun_code\u001b[0m\n    exec(code_obj, self.user_global_ns, self.user_ns)\u001b[0m\n",
      "\u001b[1;36m  Cell \u001b[1;32mIn[3], line 1\u001b[1;36m\n\u001b[1;33m    from tictactoe import *\u001b[1;36m\n",
      "\u001b[1;36m  File \u001b[1;32m~\\crisscrossgame\\tictactoe.py:54\u001b[1;36m\u001b[0m\n\u001b[1;33m    \"\"\"gets valid move from the player\"\"\"\u001b[0m\n\u001b[1;37m    ^\u001b[0m\n\u001b[1;31mIndentationError\u001b[0m\u001b[1;31m:\u001b[0m expected an indented block after function definition on line 53\n"
     ]
    }
   ],
   "source": [
    "from tictactoe import *\n",
    "\n",
    "    \n",
    "def main():\n",
    "    board = [ ['1','2','3'],\\\n",
    "              ['4','5','6'],\\\n",
    "              ['7','8','9']]\n",
    "\n",
    "    welcome(board)\n",
    "    total_score = 0\n",
    "    while True:\n",
    "        choice = menu()\n",
    "        if choice == '1':\n",
    "            score = play_game(board)\n",
    "            total_score += score\n",
    "            print('Your current score is:',total_score)\n",
    "        if choice == '2':\n",
    "            save_score(total_score)\n",
    "        if choice == '3':\n",
    "            leader_board = load_scores()\n",
    "            display_leaderboard(leader_board)\n",
    "        if choice == 'q':\n",
    "            print('Thank you for playing the \"Unbeatable Noughts and Crosses\" game.')\n",
    "            print('Good bye')\n",
    "            return\n",
    "# Program execution begins here\n",
    "if __name__ == '__main__':\n",
    "    main()\n"
   ]
  },
  {
   "cell_type": "code",
   "execution_count": null,
   "id": "a56d5c9a-b688-4e4e-bb47-f19691a96e07",
   "metadata": {},
   "outputs": [],
   "source": []
  }
 ],
 "metadata": {
  "kernelspec": {
   "display_name": "Python [conda env:base] *",
   "language": "python",
   "name": "conda-base-py"
  },
  "language_info": {
   "codemirror_mode": {
    "name": "ipython",
    "version": 3
   },
   "file_extension": ".py",
   "mimetype": "text/x-python",
   "name": "python",
   "nbconvert_exporter": "python",
   "pygments_lexer": "ipython3",
   "version": "3.13.5"
  }
 },
 "nbformat": 4,
 "nbformat_minor": 5
}
